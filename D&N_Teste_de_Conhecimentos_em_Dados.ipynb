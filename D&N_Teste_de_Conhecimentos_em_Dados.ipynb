{
  "nbformat": 4,
  "nbformat_minor": 0,
  "metadata": {
    "colab": {
      "provenance": [],
      "collapsed_sections": [
        "YOaC1rJe2eSM",
        "YYNj3_X1759Y",
        "z0mXG8Ja9ci4"
      ],
      "include_colab_link": true
    },
    "kernelspec": {
      "name": "python3",
      "display_name": "Python 3"
    },
    "language_info": {
      "name": "python"
    }
  },
  "cells": [
    {
      "cell_type": "markdown",
      "metadata": {
        "id": "view-in-github",
        "colab_type": "text"
      },
      "source": [
        "<a href=\"https://colab.research.google.com/github/oihugu/Case-Shopee/blob/main/D%26N_Teste_de_Conhecimentos_em_Dados.ipynb\" target=\"_parent\"><img src=\"https://colab.research.google.com/assets/colab-badge.svg\" alt=\"Open In Colab\"/></a>"
      ]
    },
    {
      "cell_type": "markdown",
      "source": [
        "# Python-Based Data Knowledge Test\n",
        "\n",
        "In this test, you will have the opportunity to demonstrate your data handling skills using the Python programming language.\n",
        "\n",
        "The test will consist of 3 stages of knowledge assessment in the areas of:\n",
        "\n",
        "- *** Data Engineering (ETL, Queries, Automated Ingestion and Extraction) ***\n",
        "- *** Data Visualization and Data Analysis ***\n",
        "- *** Machine Learning Model Training ***\n",
        "\n",
        "The purpose is to assess your overall knowledge in these areas, so there's no issue if you're unable to complete some of the modules. The key is to focus on your strongest skills. However, remember that the more comprehensive the result of your case is, the better your final outcome will be.\n",
        "\n",
        "Delivery time will be evaluated, as deadlines are one of the most important aspects. Therefore, know how to prioritize what should be delivered based on your skill set. Again, do not worry if you are unable to complete all activities.\n",
        "\n",
        "You should download this notebook and then host it on Google Colab with your saved results displayed. The code will be re-executed to validate if the provided code generates the shown result.\n",
        "\n",
        "# Dataset Info\n",
        "\n",
        "To carry out the above stages, we will use the \"2015 Flight Delays and Cancellations\" dataset from Kaggle, which contains public flight data from the major American airlines.\n",
        "\n",
        "To download the dataset, download these 3 files:\n",
        "- [airlines.csv](https://drive.google.com/file/d/1RFGzwjNtvSQ1Isq1AJL60R0y7ll50okT/view)\n",
        "- [airports.csv](https://drive.google.com/file/d/11NKHy78lyYl6az1MMXIPX2LPht9ITLxA/view)\n",
        "- [flights.csv](https://drive.google.com/file/d/1-g2JCBREVYkpDVrkOd0wNCmDsSG-sqFR/view)\n",
        "\n",
        "## About Dataset\n",
        "### Context\n",
        "The U.S. Department of Transportation's (DOT) Bureau of Transportation Statistics tracks the on-time performance of domestic flights operated by large air carriers. Summary information on the number of on-time, delayed, canceled, and diverted flights is published in DOT's monthly Air Travel Consumer Report and in this dataset of 2015 flight delays and cancellations.\n",
        "\n",
        "### Acknowledgements\n",
        "The flight delay and cancellation data was collected and published by the DOT's Bureau of Transportation Statistics."
      ],
      "metadata": {
        "id": "D5LQYOOyySxv"
      }
    },
    {
      "cell_type": "markdown",
      "source": [
        "# 1. Data Engineering (ETL, Queries, Automated Ingestion and Extraction)\n",
        "\n",
        "## Instructions for the ETL Task\n",
        "\n",
        "1. Import the data from the 'airlines.csv', 'airports.csv', and 'flights.csv' files into the corresponding tables in the SQLite database.\n",
        "2. Use SQL commands to transform and combine this data as needed.\n",
        "3. Identify the top 5 airports with the highest number of delays. Consider departure delays ('DEPARTURE_DELAY').\n",
        "4. Create a new table 'top_airports_delay' and insert the results of the previous query into this table.\n",
        "5. Show the result of table in table or dataframe format."
      ],
      "metadata": {
        "id": "YOaC1rJe2eSM"
      }
    },
    {
      "cell_type": "code",
      "execution_count": null,
      "metadata": {
        "id": "IglHFftEyQ3m"
      },
      "outputs": [],
      "source": [
        "import sqlite3\n",
        "\n",
        "# Create a connection to the SQLite database (created in memory for this example)\n",
        "conn = sqlite3.connect(':memory:')\n",
        "\n",
        "# Create a cursor to execute SQL commands\n",
        "cursor = conn.cursor()\n",
        "\n",
        "# Create tables for each of the CSV files\n",
        "# Table for airlines.csv\n",
        "cursor.execute('''\n",
        "    CREATE TABLE airlines (\n",
        "        IATA_CODE TEXT PRIMARY KEY,\n",
        "        AIRLINE TEXT\n",
        "    );\n",
        "''')\n",
        "\n",
        "# Table for airports.csv\n",
        "cursor.execute('''\n",
        "    CREATE TABLE airports (\n",
        "        IATA_CODE TEXT PRIMARY KEY,\n",
        "        AIRPORT TEXT,\n",
        "        CITY TEXT,\n",
        "        STATE TEXT,\n",
        "        COUNTRY TEXT,\n",
        "        LATITUDE REAL,\n",
        "        LONGITUDE REAL\n",
        "    );\n",
        "''')\n",
        "\n",
        "# Table for flights.csv\n",
        "cursor.execute('''\n",
        "    CREATE TABLE flights (\n",
        "        YEAR INTEGER,\n",
        "        MONTH INTEGER,\n",
        "        DAY INTEGER,\n",
        "        DAY_OF_WEEK INTEGER,\n",
        "        AIRLINE TEXT,\n",
        "        FLIGHT_NUMBER INTEGER,\n",
        "        TAIL_NUMBER TEXT,\n",
        "        ORIGIN_AIRPORT TEXT,\n",
        "        DESTINATION_AIRPORT TEXT,\n",
        "        SCHEDULED_DEPARTURE INTEGER,\n",
        "        DEPARTURE_TIME REAL,\n",
        "        DEPARTURE_DELAY REAL,\n",
        "        TAXI_OUT REAL,\n",
        "        WHEELS_OFF REAL,\n",
        "        SCHEDULED_TIME REAL,\n",
        "        ELAPSED_TIME REAL,\n",
        "        AIR_TIME REAL,\n",
        "        DISTANCE INTEGER,\n",
        "        WHEELS_ON REAL,\n",
        "        TAXI_IN REAL,\n",
        "        SCHEDULED_ARRIVAL INTEGER,\n",
        "        ARRIVAL_TIME REAL,\n",
        "        ARRIVAL_DELAY REAL,\n",
        "        DIVERTED INTEGER,\n",
        "        CANCELLED INTEGER,\n",
        "        CANCELLATION_REASON TEXT,\n",
        "        AIR_SYSTEM_DELAY REAL,\n",
        "        SECURITY_DELAY REAL,\n",
        "        AIRLINE_DELAY REAL,\n",
        "        LATE_AIRCRAFT_DELAY REAL,\n",
        "        WEATHER_DELAY REAL\n",
        "    );\n",
        "''')\n"
      ]
    },
    {
      "cell_type": "code",
      "source": [
        "# Start your codes here\n",
        "\n"
      ],
      "metadata": {
        "id": "PsZtuxAj4ByA"
      },
      "execution_count": null,
      "outputs": []
    },
    {
      "cell_type": "markdown",
      "source": [
        "# 2. Data Visualization and Data Analysis\n",
        "\n",
        "## Instructions for the Data Visualization Module\n",
        "### Distribution of Delays by Airline:\n",
        "- Create a chart showing the distribution of delays (both positive and negative) for each airline.\n",
        "- The chart should allow for easy comparison between the companies.\n",
        "\n",
        "### Relationship Between Flight Distance and Delays:\n",
        "- Create a scatter plot that relates flight distance to departure delay.\n",
        "- Identify any visible trends or patterns.\n",
        "\n",
        "### Delays by Airline:\n",
        "- Visualize how delays vary throughout the day.\n",
        "- Consider showing the average delays by hour of departure.\n",
        "\n",
        "### Map of Delays by Airport:\n",
        "- Create a map visualization showing the location of airports with the quantity or percentage of delays.\n",
        "- This may involve integrating geographical data of airports with flight delays.\n",
        "\n",
        "### Temporal Analysis of Delays:\n",
        "- Analyze how flight delays varied throughout the year 2015.\n",
        "- Create a line or bar chart showing the monthly variation of delays.\n",
        "\n",
        "### Additional Considerations:\n",
        "- You could use libs like Matplotlib, Seaborn, Plotly, or any other visualization tool that you are comfortable with.\n",
        "- Include legends, titles, axis labels, and any other annotations to make the visualizations easily interpretable.\n",
        "- Provide a brief description or interpretation of the insights gained from each graph."
      ],
      "metadata": {
        "id": "YYNj3_X1759Y"
      }
    },
    {
      "cell_type": "code",
      "source": [
        "# Start your codes here\n",
        "\n"
      ],
      "metadata": {
        "id": "uRH__zuP8KxS"
      },
      "execution_count": null,
      "outputs": []
    },
    {
      "cell_type": "markdown",
      "source": [
        "# 3. Machine Learning Model Training\n",
        "\n",
        "## Instructions for the Machine Learning Model Training Module\n",
        "\n",
        "### Model Objective:\n",
        "- Develop a Machine Learning model to predict flight delays. The target could be a binary variable indicating whether a flight will be delayed by more than 15 minutes, for example.\n",
        "\n",
        "### Data Preprocessing:\n",
        "- Perform data cleaning and preparation. This should include handling missing values, encoding categorical variables, normalizing or standardizing numerical variables, and possibly creating new features (feature engineering).\n",
        "\n",
        "- Justify the preprocessing choices.\n",
        "\n",
        "### Data Split:\n",
        "- Divide the data into training and test sets.\n",
        "\n",
        "### Model Selection and Training:\n",
        "- Choose an appropriate model (e.g., logistic regression, decision trees, random forest, etc.).\n",
        "- Train the model and optimize hyperparameters.\n",
        "\n",
        "### Model Evaluation:\n",
        "- Evaluate the model using appropriate metrics such as accuracy, recall, F1-score, AUC-ROC, etc.\n",
        "- Provide an interpretation of the results and metrics.\n",
        "\n",
        "### Insights and Improvements:\n",
        "- Discuss possible insights gained from the model and suggestions for future improvements.\n",
        "\n",
        "### Additional Considerations:\n",
        "- You could use libraries like scikit-learn, XGboost, TensorFlow, or PyTorch, depending on the desired complexity level.\n",
        "- Document each step, including the model choice and justification, as well as the interpretation of results.\n",
        "- Consider asking for further exploration, like variable importance analysis or model error diagnostics."
      ],
      "metadata": {
        "id": "z0mXG8Ja9ci4"
      }
    },
    {
      "cell_type": "code",
      "source": [
        "# Start your codes here\n",
        "\n"
      ],
      "metadata": {
        "id": "htjuledEACK7"
      },
      "execution_count": null,
      "outputs": []
    }
  ]
}